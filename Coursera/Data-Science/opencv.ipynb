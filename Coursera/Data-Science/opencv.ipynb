{
 "cells": [
  {
   "cell_type": "code",
   "execution_count": 1,
   "metadata": {},
   "outputs": [],
   "source": [
    "import cv2"
   ]
  },
  {
   "cell_type": "code",
   "execution_count": 2,
   "metadata": {},
   "outputs": [],
   "source": [
    "face_cascade = cv2.CascadeClassifier('haarcascade_frontalface_default.xml')"
   ]
  },
  {
   "cell_type": "code",
   "execution_count": 6,
   "metadata": {},
   "outputs": [
    {
     "data": {
      "text/plain": [
       "array([[[ 61,  54,  61],\n",
       "        [ 59,  52,  59],\n",
       "        [ 57,  50,  57],\n",
       "        ...,\n",
       "        [ 79,  87,  87],\n",
       "        [ 82,  90,  90],\n",
       "        [ 86,  93,  96]],\n",
       "\n",
       "       [[ 57,  50,  57],\n",
       "        [ 57,  50,  57],\n",
       "        [ 56,  49,  56],\n",
       "        ...,\n",
       "        [ 79,  87,  87],\n",
       "        [ 81,  89,  89],\n",
       "        [ 84,  91,  94]],\n",
       "\n",
       "       [[ 56,  49,  56],\n",
       "        [ 57,  50,  57],\n",
       "        [ 58,  51,  58],\n",
       "        ...,\n",
       "        [ 79,  87,  87],\n",
       "        [ 80,  88,  88],\n",
       "        [ 82,  89,  92]],\n",
       "\n",
       "       ...,\n",
       "\n",
       "       [[ 35,  22,  20],\n",
       "        [ 36,  23,  21],\n",
       "        [ 37,  24,  22],\n",
       "        ...,\n",
       "        [ 50, 147,  97],\n",
       "        [ 52, 148, 101],\n",
       "        [ 52, 147, 102]],\n",
       "\n",
       "       [[ 36,  23,  21],\n",
       "        [ 36,  23,  21],\n",
       "        [ 37,  24,  22],\n",
       "        ...,\n",
       "        [ 48, 145,  95],\n",
       "        [ 49, 145,  98],\n",
       "        [ 49, 144,  99]],\n",
       "\n",
       "       [[ 36,  23,  21],\n",
       "        [ 37,  24,  22],\n",
       "        [ 37,  24,  22],\n",
       "        ...,\n",
       "        [ 44, 141,  91],\n",
       "        [ 45, 141,  94],\n",
       "        [ 44, 139,  94]]], dtype=uint8)"
      ]
     },
     "execution_count": 6,
     "metadata": {},
     "output_type": "execute_result"
    }
   ],
   "source": [
    "image =cv2.imread('t1.JPG')\n",
    "image"
   ]
  },
  {
   "cell_type": "code",
   "execution_count": 7,
   "metadata": {},
   "outputs": [
    {
     "data": {
      "text/plain": [
       "array([[ 57,  55,  53, ...,  86,  89,  93],\n",
       "       [ 53,  53,  52, ...,  86,  88,  91],\n",
       "       [ 52,  53,  54, ...,  86,  87,  89],\n",
       "       ...,\n",
       "       [ 23,  24,  25, ..., 121, 123, 123],\n",
       "       [ 24,  24,  25, ..., 119, 120, 120],\n",
       "       [ 24,  25,  25, ..., 115, 116, 115]], dtype=uint8)"
      ]
     },
     "execution_count": 7,
     "metadata": {},
     "output_type": "execute_result"
    }
   ],
   "source": [
    "grey = cv2.cvtColor(image, cv2.COLOR_BGR2GRAY)\n",
    "grey"
   ]
  },
  {
   "cell_type": "code",
   "execution_count": 9,
   "metadata": {},
   "outputs": [],
   "source": [
    "faces =face_cascade.detectMultiScale(grey, 1.1,4 )"
   ]
  },
  {
   "cell_type": "code",
   "execution_count": 11,
   "metadata": {},
   "outputs": [
    {
     "ename": "error",
     "evalue": "OpenCV(3.4.2) /tmp/build/80754af9/opencv-suite_1535558553474/work/modules/highgui/src/window.cpp:632: error: (-2:Unspecified error) The function is not implemented. Rebuild the library with Windows, GTK+ 2.x or Carbon support. If you are on Ubuntu or Debian, install libgtk2.0-dev and pkg-config, then re-run cmake or configure script in function 'cvShowImage'\n",
     "output_type": "error",
     "traceback": [
      "\u001b[0;31m---------------------------------------------------------------------------\u001b[0m",
      "\u001b[0;31merror\u001b[0m                                     Traceback (most recent call last)",
      "\u001b[0;32m<ipython-input-11-f4553b029240>\u001b[0m in \u001b[0;36m<module>\u001b[0;34m\u001b[0m\n\u001b[1;32m      2\u001b[0m     \u001b[0mcv2\u001b[0m\u001b[0;34m.\u001b[0m\u001b[0mrectangle\u001b[0m\u001b[0;34m(\u001b[0m\u001b[0mimage\u001b[0m\u001b[0;34m,\u001b[0m \u001b[0;34m(\u001b[0m\u001b[0mx\u001b[0m\u001b[0;34m,\u001b[0m\u001b[0my\u001b[0m\u001b[0;34m)\u001b[0m\u001b[0;34m,\u001b[0m\u001b[0;34m(\u001b[0m\u001b[0mx\u001b[0m\u001b[0;34m+\u001b[0m\u001b[0mw\u001b[0m\u001b[0;34m,\u001b[0m \u001b[0my\u001b[0m\u001b[0;34m+\u001b[0m\u001b[0mh\u001b[0m\u001b[0;34m)\u001b[0m\u001b[0;34m,\u001b[0m\u001b[0;34m(\u001b[0m\u001b[0;36m255\u001b[0m\u001b[0;34m,\u001b[0m\u001b[0;36m0\u001b[0m\u001b[0;34m,\u001b[0m\u001b[0;36m0\u001b[0m\u001b[0;34m)\u001b[0m\u001b[0;34m,\u001b[0m\u001b[0;36m2\u001b[0m\u001b[0;34m)\u001b[0m\u001b[0;34m\u001b[0m\u001b[0;34m\u001b[0m\u001b[0m\n\u001b[1;32m      3\u001b[0m \u001b[0;34m\u001b[0m\u001b[0m\n\u001b[0;32m----> 4\u001b[0;31m \u001b[0mcv2\u001b[0m\u001b[0;34m.\u001b[0m\u001b[0mimshow\u001b[0m\u001b[0;34m(\u001b[0m\u001b[0;34m'img'\u001b[0m\u001b[0;34m,\u001b[0m\u001b[0mimage\u001b[0m\u001b[0;34m)\u001b[0m\u001b[0;34m\u001b[0m\u001b[0;34m\u001b[0m\u001b[0m\n\u001b[0m\u001b[1;32m      5\u001b[0m \u001b[0mcv2\u001b[0m\u001b[0;34m.\u001b[0m\u001b[0mwaitKey\u001b[0m\u001b[0;34m(\u001b[0m\u001b[0;34m)\u001b[0m\u001b[0;34m\u001b[0m\u001b[0;34m\u001b[0m\u001b[0m\n",
      "\u001b[0;31merror\u001b[0m: OpenCV(3.4.2) /tmp/build/80754af9/opencv-suite_1535558553474/work/modules/highgui/src/window.cpp:632: error: (-2:Unspecified error) The function is not implemented. Rebuild the library with Windows, GTK+ 2.x or Carbon support. If you are on Ubuntu or Debian, install libgtk2.0-dev and pkg-config, then re-run cmake or configure script in function 'cvShowImage'\n"
     ]
    }
   ],
   "source": [
    "for (x,y,w,h) in faces:\n",
    "    cv2.rectangle(image, (x,y),(x+w, y+h),(255,0,0),2)\n",
    "\n",
    "cv2.imshow('img',image)\n",
    "cv2.waitKey()"
   ]
  },
  {
   "cell_type": "code",
   "execution_count": null,
   "metadata": {},
   "outputs": [],
   "source": []
  }
 ],
 "metadata": {
  "kernelspec": {
   "display_name": "Python 3",
   "language": "python",
   "name": "python3"
  },
  "language_info": {
   "codemirror_mode": {
    "name": "ipython",
    "version": 3
   },
   "file_extension": ".py",
   "mimetype": "text/x-python",
   "name": "python",
   "nbconvert_exporter": "python",
   "pygments_lexer": "ipython3",
   "version": "3.7.3"
  }
 },
 "nbformat": 4,
 "nbformat_minor": 4
}
